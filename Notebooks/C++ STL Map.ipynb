{
 "cells": [
  {
   "cell_type": "code",
   "execution_count": 1,
   "metadata": {},
   "outputs": [],
   "source": [
    "#include <iostream>\n",
    "\n",
    "using namespace std;"
   ]
  },
  {
   "cell_type": "markdown",
   "metadata": {},
   "source": [
    "## Why Map in C++?\n",
    "\n",
    "To understand, we'll go through a problem.\n",
    "\n",
    "**Problem**: Given an array $N(a_1, a_2, ...)$ positive integers. Find frequency of each number in the array.\n",
    "\n",
    "### Way 1: Brute Force Solution"
   ]
  },
  {
   "cell_type": "code",
   "execution_count": 2,
   "metadata": {},
   "outputs": [
    {
     "name": "stdout",
     "output_type": "stream",
     "text": [
      "10\n"
     ]
    }
   ],
   "source": [
    "int len;\n",
    "cin >> len;\n",
    "int* N = new int[len];"
   ]
  },
  {
   "cell_type": "code",
   "execution_count": 3,
   "metadata": {},
   "outputs": [
    {
     "name": "stdout",
     "output_type": "stream",
     "text": [
      "3\n",
      "3\n",
      "2\n",
      "3\n",
      "3\n",
      "55\n",
      "2\n",
      "4\n",
      "5\n",
      "4\n"
     ]
    }
   ],
   "source": [
    "for(int i=0; i<len; i++) {\n",
    "    cin >> N[i];\n",
    "}"
   ]
  },
  {
   "cell_type": "code",
   "execution_count": 4,
   "metadata": {},
   "outputs": [
    {
     "name": "stdout",
     "output_type": "stream",
     "text": [
      "Count of 3 : 4\n",
      "Count of 3 : 4\n",
      "Count of 2 : 2\n",
      "Count of 3 : 4\n",
      "Count of 3 : 4\n",
      "Count of 55 : 1\n",
      "Count of 2 : 2\n",
      "Count of 4 : 2\n",
      "Count of 5 : 1\n",
      "Count of 4 : 2\n"
     ]
    }
   ],
   "source": [
    "// Drawback: Returns frequency of all the elements even being repetive\n",
    "for(int i=0; i<len; i++) {\n",
    "    int count = 0;\n",
    "    for(int j=0; j<len; j++) {\n",
    "        if(N[i] == N[j]) \n",
    "            count++;\n",
    "    }\n",
    "    cout << \"Count of \" << N[i] << \" : \" << count << endl;\n",
    "}"
   ]
  },
  {
   "cell_type": "markdown",
   "metadata": {},
   "source": [
    "### Way 2: Using Hashing"
   ]
  },
  {
   "cell_type": "code",
   "execution_count": 5,
   "metadata": {},
   "outputs": [],
   "source": [
    "// Create Hashing Array\n",
    "int hash_array[1000001];"
   ]
  },
  {
   "cell_type": "code",
   "execution_count": 6,
   "metadata": {},
   "outputs": [],
   "source": [
    "for(int i=0; i<len; i++) {\n",
    "    hash_array[N[i]]++;\n",
    "}"
   ]
  },
  {
   "cell_type": "code",
   "execution_count": 7,
   "metadata": {},
   "outputs": [
    {
     "name": "stdout",
     "output_type": "stream",
     "text": [
      "Size of the array: 1000001\n"
     ]
    }
   ],
   "source": [
    "cout << \"Size of the array: \" << sizeof(hash_array)/sizeof(hash_array[0]) << endl;"
   ]
  },
  {
   "cell_type": "code",
   "execution_count": 8,
   "metadata": {},
   "outputs": [
    {
     "name": "stdout",
     "output_type": "stream",
     "text": [
      "Count of 2 : 2\n",
      "Count of 3 : 4\n",
      "Count of 3 : 2\n",
      "Count of 55 : 1\n",
      "Count of 32760 : 1\n"
     ]
    }
   ],
   "source": [
    "for(int i=0; i<sizeof(hash_array)/sizeof(hash_array[0]); i++) {\n",
    "    if(hash_array[i] != 0)\n",
    "        cout << \"Count of \" << N[i] << \" : \" << hash_array[i] << endl;\n",
    "}"
   ]
  },
  {
   "cell_type": "markdown",
   "metadata": {},
   "source": [
    "**Disadvantages:**\n",
    "    \n",
    "1. Memory wastage: The `hash_array` array is allocated with $1000001$ locations. While each location will take 4 bytes, and thus $4 * 1000001 = 4000004$ bytes will be allocated.\n",
    "2. What if the array length is larger than $1000001$? In that case, this method won't work."
   ]
  },
  {
   "cell_type": "markdown",
   "metadata": {},
   "source": [
    "### Way 3: Using Map"
   ]
  },
  {
   "cell_type": "code",
   "execution_count": 9,
   "metadata": {},
   "outputs": [],
   "source": [
    "#include <map>"
   ]
  },
  {
   "cell_type": "code",
   "execution_count": 10,
   "metadata": {},
   "outputs": [],
   "source": [
    "map <int, int> map_arr;"
   ]
  },
  {
   "cell_type": "code",
   "execution_count": 11,
   "metadata": {},
   "outputs": [],
   "source": [
    "// Originally, all elements in map_arr are initialized to 0\n",
    "for(int i=0; i<len; i++) {\n",
    "    map_arr[N[i]]++;\n",
    "}"
   ]
  },
  {
   "cell_type": "code",
   "execution_count": 12,
   "metadata": {},
   "outputs": [
    {
     "name": "stdout",
     "output_type": "stream",
     "text": [
      "Count of 2 : 2\n",
      "Count of 3 : 4\n",
      "Count of 4 : 2\n",
      "Count of 5 : 1\n",
      "Count of 55 : 1\n"
     ]
    }
   ],
   "source": [
    "for(map <int, int>::iterator iter = map_arr.begin(); iter != map_arr.end(); iter++) {\n",
    "    cout << \"Count of \" << iter->first << \" : \" << iter->second << endl;\n",
    "}"
   ]
  },
  {
   "cell_type": "markdown",
   "metadata": {},
   "source": [
    "1. In case we have array $\\text{length of array} > 10^7$, then we can use `long int` instead of `int`. It's better because it saves the memory space.\n",
    "2. To access any element from the map, time complexity is $O(\\log N)$ where N is the size of map.\n",
    "3. `map` stores the elements in sorted order. (Logic: we do `map_arr[number]++` so, lesser the number is, earlier the location is."
   ]
  },
  {
   "cell_type": "code",
   "execution_count": 13,
   "metadata": {},
   "outputs": [
    {
     "name": "stdout",
     "output_type": "stream",
     "text": [
      "5"
     ]
    }
   ],
   "source": [
    "// Size of map\n",
    "cout << map_arr.size();"
   ]
  },
  {
   "cell_type": "markdown",
   "metadata": {},
   "source": [
    "## Find in Map\n",
    "\n",
    "```\n",
    "if(given key present in the map) {\n",
    "    return iterator pointing to that key value pair\n",
    "} else {\n",
    "    return pointer to the end of the map\n",
    "}\n",
    "```"
   ]
  },
  {
   "cell_type": "code",
   "execution_count": 14,
   "metadata": {},
   "outputs": [
    {
     "name": "stdout",
     "output_type": "stream",
     "text": [
      "Key 3 found at: 4\n"
     ]
    }
   ],
   "source": [
    "auto iter = map_arr.find(3);\n",
    "// if key not found, then find function will return map_arr.end()\n",
    "if(iter != map_arr.end()) {\n",
    "    cout << \"Key \" << iter->first << \" found at: \" << iter->second << endl;\n",
    "}"
   ]
  },
  {
   "cell_type": "markdown",
   "metadata": {},
   "source": [
    "Time complexity of `find()` is $O(\\log N)$. $N$ is size of the map."
   ]
  },
  {
   "cell_type": "markdown",
   "metadata": {},
   "source": [
    "## Erase from the Map"
   ]
  },
  {
   "cell_type": "code",
   "execution_count": 15,
   "metadata": {},
   "outputs": [
    {
     "name": "stdout",
     "output_type": "stream",
     "text": [
      "Map before erasing\n",
      "2, 2\n",
      "3, 4\n",
      "4, 2\n",
      "5, 1\n",
      "55, 1\n"
     ]
    }
   ],
   "source": [
    "cout << \"Map before erasing\\n\";\n",
    "for(iter = map_arr.begin(); iter != map_arr.end(); iter++) {\n",
    "    cout << iter->first << \", \" << iter->second << endl;\n",
    "}"
   ]
  },
  {
   "cell_type": "code",
   "execution_count": 16,
   "metadata": {},
   "outputs": [
    {
     "name": "stdout",
     "output_type": "stream",
     "text": [
      "Key found, and erasing.\n"
     ]
    }
   ],
   "source": [
    "// Let's erase 55 from the array\n",
    "// It doesn't fit well with the other small numbers ;)\n",
    "iter = map_arr.find(55);\n",
    "if(iter != map_arr.end()) {\n",
    "    cout << \"Key found, and erasing.\" << endl;\n",
    "    map_arr.erase(iter);\n",
    "} else {\n",
    "    cout << \"Key not found. Can't erase\" << endl;\n",
    "}"
   ]
  },
  {
   "cell_type": "code",
   "execution_count": 17,
   "metadata": {},
   "outputs": [
    {
     "name": "stdout",
     "output_type": "stream",
     "text": [
      "Map after erasing\n",
      "2, 2\n",
      "3, 4\n",
      "4, 2\n",
      "5, 1\n"
     ]
    }
   ],
   "source": [
    "cout << \"Map after erasing\\n\";\n",
    "for(iter = map_arr.begin(); iter != map_arr.end(); iter++) {\n",
    "    cout << iter->first << \", \" << iter->second << endl;\n",
    "}"
   ]
  },
  {
   "cell_type": "markdown",
   "metadata": {},
   "source": [
    "Time complexity to erase:\n",
    "\n",
    "1. if `iterator` is passed to `map_arr.erase()` then it takes $O(1)$ time. \n",
    "2. if number is passed to `map_arr.erase()` then it takes $O(\\log N)$ time."
   ]
  },
  {
   "cell_type": "markdown",
   "metadata": {},
   "source": [
    "## Clear in Map"
   ]
  },
  {
   "cell_type": "code",
   "execution_count": 18,
   "metadata": {},
   "outputs": [
    {
     "name": "stdout",
     "output_type": "stream",
     "text": [
      "Size before clearing: 4\n",
      "Size after clearing: 0\n"
     ]
    }
   ],
   "source": [
    "// Clear all the key value pairs and make it's size to 0\n",
    "cout << \"Size before clearing: \" << map_arr.size() << endl;\n",
    "map_arr.clear();\n",
    "cout << \"Size after clearing: \" << map_arr.size() << endl;"
   ]
  }
 ],
 "metadata": {
  "kernelspec": {
   "display_name": "C++11",
   "language": "C++11",
   "name": "xcpp11"
  },
  "language_info": {
   "codemirror_mode": "text/x-c++src",
   "file_extension": ".cpp",
   "mimetype": "text/x-c++src",
   "name": "c++",
   "version": "-std=c++11"
  }
 },
 "nbformat": 4,
 "nbformat_minor": 2
}
