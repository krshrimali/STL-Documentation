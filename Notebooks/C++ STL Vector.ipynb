{
 "cells": [
  {
   "cell_type": "code",
   "execution_count": 1,
   "metadata": {},
   "outputs": [],
   "source": [
    "#include <iostream>\n",
    "#include <vector>\n",
    "\n",
    "using namespace std;"
   ]
  },
  {
   "cell_type": "markdown",
   "metadata": {},
   "source": [
    "Array - static data structure, size to be defined while declaration. It doesn't increase it's size depending on requirement."
   ]
  },
  {
   "cell_type": "code",
   "execution_count": 2,
   "metadata": {},
   "outputs": [],
   "source": [
    "template<class T>\n",
    "void print(vector<T> arr) {\n",
    "    for(int i=0; i<arr.size(); i++) {\n",
    "        cout << arr[i];\n",
    "    }\n",
    "}"
   ]
  },
  {
   "cell_type": "markdown",
   "metadata": {},
   "source": [
    "## `push_back()`"
   ]
  },
  {
   "cell_type": "code",
   "execution_count": 3,
   "metadata": {},
   "outputs": [
    {
     "name": "stdout",
     "output_type": "stream",
     "text": [
      "208"
     ]
    }
   ],
   "source": [
    "// Vector declaration\n",
    "vector<int> v;\n",
    "v.push_back(2);\n",
    "v.push_back(0);\n",
    "v.push_back(8);\n",
    "print(v);"
   ]
  },
  {
   "cell_type": "code",
   "execution_count": 4,
   "metadata": {},
   "outputs": [
    {
     "name": "stdout",
     "output_type": "stream",
     "text": [
      "Kushashwa Ravi Shrimali "
     ]
    }
   ],
   "source": [
    "vector<string> s;\n",
    "s.push_back(\"Kushashwa \");\n",
    "s.push_back(\"Ravi \");\n",
    "s.push_back(\"Shrimali \");\n",
    "print(s);"
   ]
  },
  {
   "cell_type": "code",
   "execution_count": 5,
   "metadata": {},
   "outputs": [
    {
     "name": "stdout",
     "output_type": "stream",
     "text": [
      "3"
     ]
    }
   ],
   "source": [
    "// Size of a vector\n",
    "int size = s.size();\n",
    "cout << size;"
   ]
  },
  {
   "cell_type": "markdown",
   "metadata": {},
   "source": [
    "## `pop_back()`"
   ]
  },
  {
   "cell_type": "code",
   "execution_count": 6,
   "metadata": {},
   "outputs": [
    {
     "name": "stdout",
     "output_type": "stream",
     "text": [
      "Kushashwa Ravi Shrimali "
     ]
    }
   ],
   "source": [
    "vector<string> sample;\n",
    "sample.push_back(\"Kushashwa \");\n",
    "sample.push_back(\"Ravi \");\n",
    "sample.push_back(\"Shrimali \");\n",
    "print(sample);"
   ]
  },
  {
   "cell_type": "code",
   "execution_count": 7,
   "metadata": {},
   "outputs": [
    {
     "name": "stdout",
     "output_type": "stream",
     "text": [
      "Size before popping: 3\n",
      "Size after popping: 2\n"
     ]
    }
   ],
   "source": [
    "cout << \"Size before popping: \" << sample.size() << endl;;\n",
    "sample.pop_back();\n",
    "cout << \"Size after popping: \" << sample.size() << endl;"
   ]
  },
  {
   "cell_type": "code",
   "execution_count": 8,
   "metadata": {},
   "outputs": [
    {
     "name": "stdout",
     "output_type": "stream",
     "text": [
      "Kushashwa Ravi "
     ]
    }
   ],
   "source": [
    "print(sample);"
   ]
  },
  {
   "cell_type": "markdown",
   "metadata": {},
   "source": [
    "## Accessing Vector Elements"
   ]
  },
  {
   "cell_type": "code",
   "execution_count": 9,
   "metadata": {},
   "outputs": [
    {
     "name": "stdout",
     "output_type": "stream",
     "text": [
      "Kushashwa Ravi "
     ]
    }
   ],
   "source": [
    "print(sample);"
   ]
  },
  {
   "cell_type": "markdown",
   "metadata": {},
   "source": [
    "### 1. Indexing Numerically"
   ]
  },
  {
   "cell_type": "code",
   "execution_count": 10,
   "metadata": {},
   "outputs": [
    {
     "name": "stdout",
     "output_type": "stream",
     "text": [
      "Kushashwa \n",
      "Ravi \n"
     ]
    }
   ],
   "source": [
    "for(int i=0; i<sample.size(); i++) {\n",
    "    cout << sample[i] << endl;\n",
    "}"
   ]
  },
  {
   "cell_type": "markdown",
   "metadata": {},
   "source": [
    "### 2. Using Iterator"
   ]
  },
  {
   "cell_type": "code",
   "execution_count": 11,
   "metadata": {},
   "outputs": [
    {
     "name": "stdout",
     "output_type": "stream",
     "text": [
      "208"
     ]
    }
   ],
   "source": [
    "vector<int> int_v;\n",
    "int_v.push_back(2);\n",
    "int_v.push_back(0);\n",
    "int_v.push_back(8);\n",
    "\n",
    "vector<int>::iterator iter;\n",
    "for(iter=int_v.begin(); iter!=int_v.end(); iter++) {\n",
    "    cout << *iter;\n",
    "}"
   ]
  },
  {
   "cell_type": "markdown",
   "metadata": {},
   "source": [
    "## Insert into Vector"
   ]
  },
  {
   "cell_type": "code",
   "execution_count": 12,
   "metadata": {},
   "outputs": [
    {
     "name": "stdout",
     "output_type": "stream",
     "text": [
      "208"
     ]
    }
   ],
   "source": [
    "vector<int> vec;\n",
    "vec.push_back(2);\n",
    "vec.push_back(0);\n",
    "vec.push_back(8);\n",
    "print(vec);"
   ]
  },
  {
   "cell_type": "code",
   "execution_count": 13,
   "metadata": {},
   "outputs": [],
   "source": [
    "vec.insert(vec.begin()+1, 2);"
   ]
  },
  {
   "cell_type": "code",
   "execution_count": 14,
   "metadata": {},
   "outputs": [
    {
     "name": "stdout",
     "output_type": "stream",
     "text": [
      "2208"
     ]
    }
   ],
   "source": [
    "print(vec);"
   ]
  },
  {
   "cell_type": "code",
   "execution_count": 15,
   "metadata": {},
   "outputs": [],
   "source": [
    "vec.insert(vec.end()-1, 4);"
   ]
  },
  {
   "cell_type": "code",
   "execution_count": 16,
   "metadata": {},
   "outputs": [
    {
     "name": "stdout",
     "output_type": "stream",
     "text": [
      "22048"
     ]
    }
   ],
   "source": [
    "print(vec);"
   ]
  },
  {
   "cell_type": "markdown",
   "metadata": {},
   "source": [
    "## Erase from a Vector\n",
    "\n",
    "Let's try to get the original vector (208) back. Note that, from the end, it starts from -1, -2, and so on. So when you do `vec.erase(vec.end() - 1)` - you're basically erasing the *last* element. But if you do `vec.erase(vec.begin()+1)` - you're erasing the *second* element from the beginning."
   ]
  },
  {
   "cell_type": "code",
   "execution_count": 17,
   "metadata": {},
   "outputs": [
    {
     "name": "stdout",
     "output_type": "stream",
     "text": [
      "22048"
     ]
    }
   ],
   "source": [
    "print(vec);"
   ]
  },
  {
   "cell_type": "code",
   "execution_count": 18,
   "metadata": {},
   "outputs": [
    {
     "name": "stdout",
     "output_type": "stream",
     "text": [
      "2208"
     ]
    }
   ],
   "source": [
    "vec.erase(vec.end()-2);\n",
    "print(vec);"
   ]
  },
  {
   "cell_type": "code",
   "execution_count": 19,
   "metadata": {},
   "outputs": [
    {
     "name": "stdout",
     "output_type": "stream",
     "text": [
      "208"
     ]
    }
   ],
   "source": [
    "vec.erase(vec.begin()+1);\n",
    "print(vec);"
   ]
  },
  {
   "cell_type": "markdown",
   "metadata": {},
   "source": [
    "## Clear Vector"
   ]
  },
  {
   "cell_type": "code",
   "execution_count": 25,
   "metadata": {},
   "outputs": [
    {
     "name": "stdout",
     "output_type": "stream",
     "text": [
      "Size: 0\n"
     ]
    }
   ],
   "source": [
    "vec.clear();\n",
    "print(vec);\n",
    "cout << \"Size: \" << vec.size() << endl;"
   ]
  },
  {
   "cell_type": "markdown",
   "metadata": {},
   "source": [
    "## Sorting Vector"
   ]
  },
  {
   "cell_type": "code",
   "execution_count": 26,
   "metadata": {},
   "outputs": [],
   "source": [
    "vec.push_back(2);\n",
    "vec.push_back(0);\n",
    "vec.push_back(8);"
   ]
  },
  {
   "cell_type": "code",
   "execution_count": 27,
   "metadata": {},
   "outputs": [
    {
     "name": "stdout",
     "output_type": "stream",
     "text": [
      "208"
     ]
    }
   ],
   "source": [
    "print(vec);"
   ]
  },
  {
   "cell_type": "code",
   "execution_count": 28,
   "metadata": {},
   "outputs": [
    {
     "name": "stdout",
     "output_type": "stream",
     "text": [
      "Vector before sorting\n",
      "208\n",
      "Vector after sorting\n",
      "028"
     ]
    }
   ],
   "source": [
    "cout << \"Vector before sorting\\n\";\n",
    "print(vec);\n",
    "sort(vec.begin(), vec.end());\n",
    "cout << \"\\nVector after sorting\\n\";\n",
    "print(vec);"
   ]
  }
 ],
 "metadata": {
  "kernelspec": {
   "display_name": "C++11",
   "language": "C++11",
   "name": "xcpp11"
  },
  "language_info": {
   "codemirror_mode": "text/x-c++src",
   "file_extension": ".cpp",
   "mimetype": "text/x-c++src",
   "name": "c++",
   "version": "-std=c++11"
  }
 },
 "nbformat": 4,
 "nbformat_minor": 2
}
